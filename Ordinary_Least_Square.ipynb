{
  "nbformat": 4,
  "nbformat_minor": 0,
  "metadata": {
    "colab": {
      "name": "Ordinary Least Square.ipynb",
      "provenance": [],
      "collapsed_sections": [],
      "authorship_tag": "ABX9TyMhJlkeyyd4X0m0mYrTUxMp",
      "include_colab_link": true
    },
    "kernelspec": {
      "name": "python3",
      "display_name": "Python 3"
    }
  },
  "cells": [
    {
      "cell_type": "markdown",
      "metadata": {
        "id": "view-in-github",
        "colab_type": "text"
      },
      "source": [
        "<a href=\"https://colab.research.google.com/github/VarunNangalia/Greyatom-Course/blob/master/Ordinary_Least_Square.ipynb\" target=\"_parent\"><img src=\"https://colab.research.google.com/assets/colab-badge.svg\" alt=\"Open In Colab\"/></a>"
      ]
    },
    {
      "cell_type": "code",
      "metadata": {
        "id": "FVmaK2SlDVGF",
        "colab_type": "code",
        "colab": {}
      },
      "source": [
        "import matplotlib.pyplot as plt\n",
        "import numpy as np\n",
        "import pandas as pd\n"
      ],
      "execution_count": 0,
      "outputs": []
    },
    {
      "cell_type": "code",
      "metadata": {
        "id": "_OQVs464EdDy",
        "colab_type": "code",
        "colab": {}
      },
      "source": [
        "df = pd.read_csv('data.csv')"
      ],
      "execution_count": 0,
      "outputs": []
    },
    {
      "cell_type": "code",
      "metadata": {
        "id": "rGN-My6RJ2L-",
        "colab_type": "code",
        "colab": {}
      },
      "source": [
        "a = df['GarageArea']\n",
        "b = df['SalePrice']\n"
      ],
      "execution_count": 0,
      "outputs": []
    },
    {
      "cell_type": "code",
      "metadata": {
        "id": "At819HbxEssV",
        "colab_type": "code",
        "colab": {
          "base_uri": "https://localhost:8080/",
          "height": 278
        },
        "outputId": "13a840a3-79e6-4874-9b88-43f286d545dc"
      },
      "source": [
        "# import packages\n",
        "import matplotlib.pyplot as plt\n",
        "import numpy as np\n",
        "import pandas as pd\n",
        "# Code starts here\n",
        " \n",
        "def estimate_coef(x, y):\n",
        "    # number of observations/points\n",
        "    n = np.size(x)\n",
        " \n",
        "    # mean of x and y vector\n",
        "    m_x =np.mean(x)\n",
        "    m_y =np.mean(y)\n",
        "    # calculating cross-deviation and deviation about x\n",
        "    ss_xy = np.sum(y*x)- n*m_y*m_x\n",
        "    ss_xx = np.sum(x*x) - n*m_x*m_x\n",
        " \n",
        "    # calculating regression coefficients\n",
        "    b_1= ss_xy/ss_xx\n",
        "    b_0 = m_y - (m_x*b_1)\n",
        "    return(b_0,b_1)\n",
        " \n",
        "def plot_regression_line(x, y, b):\n",
        "    # plotting the actual points as scatter plot\n",
        "    plt.scatter(x,y,color='red')\n",
        "\n",
        "    # predicted response vector\n",
        "    y_predicted = (b[1]*x) + b[0]\n",
        " \n",
        "    # plotting the regression line\n",
        "    plt.plot(x,y_predicted,color='blue') \n",
        "\n",
        "    # putting labels\n",
        "    plt.xlabel('x')\n",
        "    plt.ylabel('y')\n",
        " \n",
        "    # function to show plot\n",
        "    plt.show()\n",
        "\n",
        "# Visualize your results\n",
        "values = estimate_coef(a,b)\n",
        "plot_regression_line(a,b,values)\n",
        "#Code ends here\n",
        "\n"
      ],
      "execution_count": 34,
      "outputs": [
        {
          "output_type": "display_data",
          "data": {
            "image/png": "[encoded data removed]",
            "text/plain": [
              "<Figure size 432x288 with 1 Axes>"
            ]
          },
          "metadata": {
            "tags": []
          }
        }
      ]
    },
    {
      "cell_type": "code",
      "metadata": {
        "id": "Q_mZlYbUM4E2",
        "colab_type": "code",
        "colab": {}
      },
      "source": [
        ""
      ],
      "execution_count": 0,
      "outputs": []
    }
  ]
}