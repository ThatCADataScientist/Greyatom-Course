{
  "nbformat": 4,
  "nbformat_minor": 0,
  "metadata": {
    "colab": {
      "name": "Margin of Error & Confidence Interval.ipynb",
      "provenance": [],
      "collapsed_sections": [],
      "authorship_tag": "ABX9TyNcDzKzfNzqKdt49i1AMkOf",
      "include_colab_link": true
    },
    "kernelspec": {
      "name": "python3",
      "display_name": "Python 3"
    }
  },
  "cells": [
    {
      "cell_type": "markdown",
      "metadata": {
        "id": "view-in-github",
        "colab_type": "text"
      },
      "source": [
        "<a href=\"https://colab.research.google.com/github/VarunNangalia/Greyatom-Course/blob/master/Margin_of_Error_%26_Confidence_Interval.ipynb\" target=\"_parent\"><img src=\"https://colab.research.google.com/assets/colab-badge.svg\" alt=\"Open In Colab\"/></a>"
      ]
    },
    {
      "cell_type": "code",
      "metadata": {
        "id": "IKKwRHQe86ob",
        "colab_type": "code",
        "colab": {}
      },
      "source": [
        "import pandas as pd\n",
        "import scipy.stats as stats\n",
        "import math\n",
        "import numpy as np\n",
        "import warnings\n",
        "\n",
        "warnings.filterwarnings('ignore')\n",
        "#Sample_Size\n",
        "sample_size=2000\n",
        "#Z_Critical Score\n",
        "z_critical = stats.norm.ppf(q = 0.95)  \n",
        "#Code starts here\n",
        "data = pd.read_csv(path)\n",
        "data_sample = data.sample(n=sample_size,random_state=0)\n",
        "sample_mean = data['installment'].mean()\n",
        "sample_std = data['installment'].std()\n",
        "margin_of_error = (z_critical*sample_std)/(math.sqrt(2000))"
      ],
      "execution_count": 0,
      "outputs": []
    }
  ]
}