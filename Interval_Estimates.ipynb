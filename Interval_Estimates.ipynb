{
  "nbformat": 4,
  "nbformat_minor": 0,
  "metadata": {
    "colab": {
      "name": "Interval Estimates.ipynb",
      "provenance": [],
      "collapsed_sections": [],
      "authorship_tag": "ABX9TyPZtEplZnX4K5JnLLHok6Ea",
      "include_colab_link": true
    },
    "kernelspec": {
      "name": "python3",
      "display_name": "Python 3"
    }
  },
  "cells": [
    {
      "cell_type": "markdown",
      "metadata": {
        "id": "view-in-github",
        "colab_type": "text"
      },
      "source": [
        "<a href=\"https://colab.research.google.com/github/VarunNangalia/Greyatom-Course/blob/master/Interval_Estimates.ipynb\" target=\"_parent\"><img src=\"https://colab.research.google.com/assets/colab-badge.svg\" alt=\"Open In Colab\"/></a>"
      ]
    },
    {
      "cell_type": "code",
      "metadata": {
        "id": "icb61qWKjV8M",
        "colab_type": "code",
        "colab": {}
      },
      "source": [
        "import pandas as pd\n",
        "import numpy as np\n",
        "import math\n",
        "from scipy import stats\n",
        "\n",
        "data = pd.read_csv(path) # assume this is a file\n",
        "sample_size = 100 #assumed sample size\n",
        "z_critical = stats.norm.ppf(q=0.95) # the z-score for the 95% confidence level\n",
        "data_sample = data.sample(n=sample_size, random_state=0) #to take a sample\n",
        "sample_mean = data_sample['SalePrice'].mean() #mean of SalePrice\n",
        "population_std = data['SalePrice'].std() # find the standard deviation of SalePrice for this population dataset\n",
        "margin_of_error = z_critical*(population_std/math.sqrt(sample_size)) #margin of error calculation\n",
        "\n",
        "confidence_interval = (sample_mean-margin_of_error,sample_mean+margin_of_error)\n",
        "\n",
        "true_mean = data['SalePrice'].mean()\n",
        "print('sample mean is ', sample_mean)\n",
        "print('confidence interval are ', confidence_interval)\n",
        "print('true mean is ',true_mean)\n"
      ],
      "execution_count": 0,
      "outputs": []
    }
  ]
}