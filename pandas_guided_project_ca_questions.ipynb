{
  "nbformat": 4,
  "nbformat_minor": 0,
  "metadata": {
    "kernelspec": {
      "display_name": "Python 3",
      "language": "python",
      "name": "python3"
    },
    "language_info": {
      "codemirror_mode": {
        "name": "ipython",
        "version": 3
      },
      "file_extension": ".py",
      "mimetype": "text/x-python",
      "name": "python",
      "nbconvert_exporter": "python",
      "pygments_lexer": "ipython3",
      "version": "3.7.1"
    },
    "colab": {
      "name": "pandas_guided_project_ca_questions.ipynb",
      "provenance": [],
      "collapsed_sections": [],
      "toc_visible": true,
      "include_colab_link": true
    }
  },
  "cells": [
    {
      "cell_type": "markdown",
      "metadata": {
        "id": "view-in-github",
        "colab_type": "text"
      },
      "source": [
        "<a href=\"https://colab.research.google.com/github/VarunNangalia/Greyatom-Course/blob/master/pandas_guided_project_ca_questions.ipynb\" target=\"_parent\"><img src=\"https://colab.research.google.com/assets/colab-badge.svg\" alt=\"Open In Colab\"/></a>"
      ]
    },
    {
      "cell_type": "markdown",
      "metadata": {
        "id": "K66Izgo8FvOo",
        "colab_type": "text"
      },
      "source": [
        "# Sales report using Pandas\n",
        "***\n",
        "## Problem Statement\n",
        "\n",
        "Hello budding Data Scientists. We have with us a bank data set which gives information about the revenue of various customers spread across different regions in USA.\n",
        "\n",
        "Using the knowledge of Pandas and Matplotlib, we will try to answer certain questions from the bank dataset  \n",
        "\n",
        "We will also then scrape certain additional data from Wikipedia, clean it and combine it with our bank data for better understandability of the data.      \n",
        "\n",
        "\n",
        "## About the Dataset\n",
        "\n",
        "Preview of the dataset \n",
        "\n",
        "![bank_dataset](../images/bank_data.png)\n",
        "\n",
        "The dataset has details of 15 customers with following 9 features.\n",
        "\n",
        "|Feature|Description|\n",
        "|-----|-----|\n",
        "|account|account Id|\n",
        "|name|name of the person|\n",
        "|street|Name of the street|\n",
        "|city|Name of the city|\n",
        "|state|Name of the state|\n",
        "|postal-code|numerical value|\n",
        "|Jan|Amount in doller|\n",
        "|Feb|Amount in doller|\n",
        "|Mar|Amount in doller|\n",
        "\n",
        "\n",
        "\n",
        "\n",
        "## Why solve this project\n",
        "\n",
        "Doing this project will enable you to integrate Multiple data sources to answer basic questions. You will also learn to perform common excel tasks with pandas\n",
        "\n",
        "What will you learn in the session ?\n",
        "Python Basics\n",
        "Pandas\n",
        "Web Scrapping\n",
        "Functions\n",
        "Plotting\n",
        "Pre-requisites\n",
        "Working knowledge of Pandas, Numpy, Matplotlib\n",
        "Data indexing and slicing"
      ]
    },
    {
      "cell_type": "markdown",
      "metadata": {
        "id": "abgDKylgFvOr",
        "colab_type": "text"
      },
      "source": [
        "# Load Data and Compute total\n",
        "The first step - you know the drill by now - load the dataset and see how it looks like. Additionally, calculate the total amount in the first quarter of the financial year. Calculate the total amount of all the users for the month of jan, feb and Mar and also grand total. \n",
        "  \n",
        "\n",
        "## Instructions\n",
        "\n",
        "- Load dataset using pandas read_csv api in variable `df` and give file path of the dataset.\n",
        "- The names of the states `state` column are changed to lower case and store it in `df['state']`\n",
        "- Create a new column named `total` which computes the total amount in the first quarter\n",
        "  of the financial year i.e. for the months of Jan, Feb and Mar and store it in `df['total']`\n",
        "- Calculate the sum of amount of all users in the Month of Jan, Feb, March and store it in variable `sum_row` \n",
        " (Here the sum implies the sum of all the entries in the `Jan Column`, sum of entries in `Feb` Column and Grand total stands for the sum of entries in the column `total`)\n",
        "- Append this computed sum to the DataFrame `df_final` \n",
        "\n",
        "\n"
      ]
    },
    {
      "cell_type": "code",
      "metadata": {
        "id": "YEXWE7uKLewi",
        "colab_type": "code",
        "colab": {
          "base_uri": "https://localhost:8080/",
          "height": 125
        },
        "outputId": "f7c542ee-13b6-4a1f-da42-4ecdc87c3327"
      },
      "source": [
        "from google.colab import drive\n",
        "drive.mount('/content/drive')"
      ],
      "execution_count": 1,
      "outputs": [
        {
          "output_type": "stream",
          "text": [
            "Go to this URL in a browser: https://accounts.google.com/o/oauth2/auth?client_id=947318989803-6bn6qk8qdgf4n4g3pfee6491hc0brc4i.apps.googleusercontent.com&redirect_uri=urn%3aietf%3awg%3aoauth%3a2.0%3aoob&response_type=code&scope=email%20https%3a%2f%2fwww.googleapis.com%2fauth%2fdocs.test%20https%3a%2f%2fwww.googleapis.com%2fauth%2fdrive%20https%3a%2f%2fwww.googleapis.com%2fauth%2fdrive.photos.readonly%20https%3a%2f%2fwww.googleapis.com%2fauth%2fpeopleapi.readonly\n",
            "\n",
            "Enter your authorization code:\n",
            "··········\n",
            "Mounted at /content/drive\n"
          ],
          "name": "stdout"
        }
      ]
    },
    {
      "cell_type": "code",
      "metadata": {
        "id": "efEOKxREFvOs",
        "colab_type": "code",
        "colab": {}
      },
      "source": [
        "import numpy as np\n",
        "import pandas as pd\n",
        "import matplotlib.pyplot as plt\n",
        "import seaborn as sns\n",
        "\n",
        "# Code starts here\n",
        "df = pd.read_csv(\"excel-comp-data.csv\")\n",
        "df['state'] = df['state'].str.lower()\n",
        "df['total'] = df[['Jan','Feb','Mar']].sum(axis=1)\n",
        "sum_row= df[['Jan','Feb','Mar']].sum(axis=0)\n",
        "df_final = df.append(sum_row,ignore_index=True)\n",
        "#Code ends here"
      ],
      "execution_count": 0,
      "outputs": []
    },
    {
      "cell_type": "markdown",
      "metadata": {
        "id": "nWObqdC0FvOw",
        "colab_type": "text"
      },
      "source": [
        "# Scrape Data From the web \n",
        "\n",
        "Here, you will be scraping data from the web and cleaning it. \n",
        " \n",
        "  \n",
        "## Instructions:\n",
        "\n",
        "- Scrapes the url `https://en.wikipedia.org/wiki/List_of_U.S._state_abbreviations` and store it in variable `url`\n",
        "- Use module `requests` to `get` the url and store it in variable called `response`\n",
        "- load the html file in dataframe `df1`. `Note`:use `pd.read_html(response.content)[0]`.   \n",
        "- First few rows consists of unclean data. You need to select rows from index 11 till end. Make the values at index 11 as column headers and store it in dataframe `df1`.\n",
        "- Remove space from the column named 'United States of America' and store the result in dataframe called `df1['United States of America']`\n",
        "\n"
      ]
    },
    {
      "cell_type": "code",
      "metadata": {
        "id": "6P07Bg7sFvOx",
        "colab_type": "code",
        "colab": {}
      },
      "source": [
        "import requests\n",
        "\n",
        "# Code starts here\n",
        "url = 'https://en.wikipedia.org/wiki/List_of_U.S._state_abbreviations'\n",
        "response = requests.get(url)\n",
        "df1 = pd.read_html(response.content)[0]\n",
        "df1= df1.iloc[10:,:]\n",
        "\n",
        "df1= df1.rename(columns=df1.iloc[0,:]).iloc[1:,:]\n",
        "df1.columns\n",
        "df1['United States of America']=df1['United States of America'].apply(lambda x:x.replace(\" \",\"\")).astype(object)\n",
        "# Code ends here"
      ],
      "execution_count": 0,
      "outputs": []
    },
    {
      "cell_type": "markdown",
      "metadata": {
        "id": "6JmqwTtKFvO0",
        "colab_type": "text"
      },
      "source": [
        "# Mapping Countries to their abbreviations\n",
        "\n",
        "Using the data scraped from the previous task, map abbriviation to the name of states.\n",
        " \n",
        "  \n",
        "\n",
        "## Instructions:\n",
        " \n",
        "- Using the scraped data create a variable called `mapping` which has the Country\n",
        " as key and Abbreviation as value\n",
        "- Create a new column called `abbr` as the 7th column (index = 6) of the DataFrame `df_final`\n",
        "- map the `df_final['state']` on variable `mapping` and store it in `df_final['abbr']` \n",
        "\n"
      ]
    },
    {
      "cell_type": "code",
      "metadata": {
        "id": "4rs5afzSFvO1",
        "colab_type": "code",
        "colab": {
          "base_uri": "https://localhost:8080/",
          "height": 212
        },
        "outputId": "6820f43e-e31e-4add-886c-d46c4ae2a2ee"
      },
      "source": [
        "# Code Starts here\n",
        "df= pd.read_csv(\"scraped.csv\")\n",
        "df.head()\n",
        "mapping=df1.set_index('United States of America')['US'].to_dict()\n",
        "#print(mapping)\n",
        "print(df1.columns)\n",
        "#df_final=df1\n",
        "df_final.insert(loc=6,column='abbr',value='Nan')\n",
        "df_final['abbr']=df_final['state'].map(mapping)\n",
        "# Code ends here"
      ],
      "execution_count": 34,
      "outputs": [
        {
          "output_type": "stream",
          "text": [
            "Index([                                              'United States of America',\n",
            "                                                                'Federal state',\n",
            "       '.mw-parser-output .monospaced{font-family:monospace,monospace}USUSA840',\n",
            "                                                                           'US',\n",
            "                                                                           '00',\n",
            "                                                                            nan,\n",
            "                                                                            nan,\n",
            "                                                                         'U.S.',\n",
            "                                                                         'U.S.',\n",
            "                                                                       'U.S.A.'],\n",
            "      dtype='object')\n"
          ],
          "name": "stdout"
        }
      ]
    },
    {
      "cell_type": "markdown",
      "metadata": {
        "id": "566ZMsTKFvO4",
        "colab_type": "text"
      },
      "source": [
        "# Filling in the Missing Values\n",
        "\n",
        "What you will notice in the previous task is that for two states Mississippi and Tennessee will have NaN values in column `abbr`. In this task you will be filling those missing values manually. \n",
        " \n",
        "  \n",
        "\n",
        "## Intructions :  \n",
        "- Locate the NaN in the abbr and replace `mississipi` with `MS` and store it in `df_mississipi`\n",
        "- Locate the NaN in the abbr and replace `tenessee` with `TN` and store it in `df_tenessee`\n",
        "- update the df_final\n",
        "\n"
      ]
    },
    {
      "cell_type": "code",
      "metadata": {
        "id": "7aLLcT1DFvO5",
        "colab_type": "code",
        "colab": {}
      },
      "source": [
        "# Code starts here\n",
        "df_mississipi = df_final[df_final['state'] == 'mississipi'].replace(np.nan, 'MS')\n",
        "df_tenessee = df_final[df_final['state'] == 'tenessee'].replace(np.nan, 'TN')\n",
        "\n",
        "# replace the final_df\n",
        "df_final.replace(df_final.iloc[6], df_mississipi, inplace=True)\n",
        "df_final.replace(df_final.iloc[10], df_tenessee, inplace=True)\n",
        "\n",
        "# Code ends here\n",
        "    "
      ],
      "execution_count": 0,
      "outputs": []
    },
    {
      "cell_type": "markdown",
      "metadata": {
        "id": "_bc6uJN8FvO8",
        "colab_type": "text"
      },
      "source": [
        "## Total amount bank hold  \n",
        "\n",
        "\n",
        "Here, use the newly created abbr column to understand the total amount that the bank holds in each state. Let us make this data frame more readable by introducing units in this case `$` sign representing the unit of mone\n",
        " \n",
        "  \n",
        "\n",
        "## Instructions :\n",
        "  \n",
        "- Groups by `abbr` and finds the sum of aabr,jan,feb ,mar and total store the result in `df_sub`\n",
        "- Write a `lambda function` to introduce `$` sign infromt of all the numbers using `applymap` and store the result in `formatted_df`\n",
        "\n",
        "\n"
      ]
    },
    {
      "cell_type": "code",
      "metadata": {
        "id": "QAEtFclMFvO9",
        "colab_type": "code",
        "colab": {}
      },
      "source": [
        "# Code starts here\n",
        "df_sub = df_final[['Jan','Feb','Mar','abbr','total']].groupby('abbr').sum()\n",
        "# Code ends here\n",
        "\n"
      ],
      "execution_count": 0,
      "outputs": []
    },
    {
      "cell_type": "markdown",
      "metadata": {
        "id": "NQkyl0EZFvPA",
        "colab_type": "text"
      },
      "source": [
        "# Append a row to the DataFrame\n",
        "\n",
        "In this task, you will append a row to the data frame which will give us information about the total amount of the various regions in Jan, Feb and march and also the grand total\n",
        " \n",
        "## Instructions :\n",
        "\n",
        "- Computes the sum of amount of all users in the Month of Jan, Feb, March and the  total in variable called `sum_row` \n",
        " (Here the sum implies the sum of all the entries in the `Jan Column`, sum of entries in `Feb` Column and Grand total stands for the sum of entries in the column `total`)\n",
        "- Tranpose the dataframe `sum_row` and store it in new dataframe `df_sub_sum` \n",
        "- Make sure you append the `$` to all the digits and store it in dataframe `df_sub_sum` .\n",
        "- Append this computed sum to the DataFrame `final_table` \n",
        "- rename the index of `final_table` to  `{0: \"Total\"}` \n",
        "\n",
        "\n"
      ]
    },
    {
      "cell_type": "code",
      "metadata": {
        "id": "CzoZINVPFvPB",
        "colab_type": "code",
        "colab": {}
      },
      "source": [
        "# Code starts here\n",
        "\n",
        "\n",
        "# Code ends here"
      ],
      "execution_count": 0,
      "outputs": []
    },
    {
      "cell_type": "markdown",
      "metadata": {
        "id": "XcEgUE-mFvPD",
        "colab_type": "text"
      },
      "source": [
        "# Pie chart for total\n",
        "\n",
        "\n",
        "Having prepared all the data now its time to present the results visually\n",
        " \n",
        "## Instructions :\n",
        "- add the total of all the three months and store it in variable called `df_sub['total']`\n",
        "- plot the pie chart for the `df_sub['total']`\n",
        "\n",
        "\n"
      ]
    },
    {
      "cell_type": "code",
      "metadata": {
        "id": "hHzNuhncFvPE",
        "colab_type": "code",
        "colab": {}
      },
      "source": [
        "# Code starts here\n",
        "\n",
        "\n",
        "# Code ends here"
      ],
      "execution_count": 0,
      "outputs": []
    },
    {
      "cell_type": "code",
      "metadata": {
        "id": "DF1oAsdHFvPI",
        "colab_type": "code",
        "colab": {}
      },
      "source": [
        ""
      ],
      "execution_count": 0,
      "outputs": []
    }
  ]
}