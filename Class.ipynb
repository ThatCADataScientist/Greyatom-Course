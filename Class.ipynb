{
  "nbformat": 4,
  "nbformat_minor": 0,
  "metadata": {
    "colab": {
      "name": "Class.ipynb",
      "provenance": [],
      "collapsed_sections": [],
      "authorship_tag": "ABX9TyPdOxWqFzUpC1DKd3C4GDrZ",
      "include_colab_link": true
    },
    "kernelspec": {
      "name": "python3",
      "display_name": "Python 3"
    }
  },
  "cells": [
    {
      "cell_type": "markdown",
      "metadata": {
        "id": "view-in-github",
        "colab_type": "text"
      },
      "source": [
        "<a href=\"https://colab.research.google.com/github/VarunNangalia/Greyatom-Course/blob/master/Class.ipynb\" target=\"_parent\"><img src=\"https://colab.research.google.com/assets/colab-badge.svg\" alt=\"Open In Colab\"/></a>"
      ]
    },
    {
      "cell_type": "code",
      "metadata": {
        "id": "djg1Ifhqy-BX",
        "colab_type": "code",
        "colab": {}
      },
      "source": [
        "class Person1:\n",
        "  def __init__(self,name1,age1):\n",
        "    self.name = name1\n",
        "    self.age = age1\n",
        "    self.h = 0\n",
        "    self.w = 0\n",
        "  def sayHello(self):\n",
        "    print(\"hello \"+self.name)"
      ],
      "execution_count": 0,
      "outputs": []
    },
    {
      "cell_type": "code",
      "metadata": {
        "id": "sw2otsJQzekn",
        "colab_type": "code",
        "colab": {}
      },
      "source": [
        "p1 = Person1(\"Max\",22)"
      ],
      "execution_count": 0,
      "outputs": []
    },
    {
      "cell_type": "code",
      "metadata": {
        "id": "sFyu_9dO5MB_",
        "colab_type": "code",
        "outputId": "0cbb93fb-6300-4700-ada5-89ab2202ed52",
        "colab": {
          "base_uri": "https://localhost:8080/",
          "height": 34
        }
      },
      "source": [
        "p1.sayHello()"
      ],
      "execution_count": 0,
      "outputs": [
        {
          "output_type": "stream",
          "text": [
            "hello Max\n"
          ],
          "name": "stdout"
        }
      ]
    },
    {
      "cell_type": "code",
      "metadata": {
        "id": "GETUmHkQz8Zn",
        "colab_type": "code",
        "outputId": "e3d0d30a-28be-45ca-d1b5-0ae69be4103e",
        "colab": {
          "base_uri": "https://localhost:8080/",
          "height": 52
        }
      },
      "source": [
        "print(p1.name)\n",
        "print(p1.age)"
      ],
      "execution_count": 0,
      "outputs": [
        {
          "output_type": "stream",
          "text": [
            "Max\n",
            "22\n"
          ],
          "name": "stdout"
        }
      ]
    },
    {
      "cell_type": "code",
      "metadata": {
        "id": "72zv-yT4z9jB",
        "colab_type": "code",
        "colab": {}
      },
      "source": [
        "class Email:\n",
        "  def __init__(self):\n",
        "    self.is_send = False\n",
        "  def Send(self):\n",
        "    self.is_send = True"
      ],
      "execution_count": 0,
      "outputs": []
    },
    {
      "cell_type": "code",
      "metadata": {
        "id": "D6zfu76S8GkE",
        "colab_type": "code",
        "colab": {}
      },
      "source": [
        "e = Email()"
      ],
      "execution_count": 0,
      "outputs": []
    },
    {
      "cell_type": "code",
      "metadata": {
        "id": "VwSGnr_4856s",
        "colab_type": "code",
        "outputId": "423a5128-4c94-4a9d-d137-4f51d4e5b368",
        "colab": {
          "base_uri": "https://localhost:8080/",
          "height": 34
        }
      },
      "source": [
        "e.is_send"
      ],
      "execution_count": 0,
      "outputs": [
        {
          "output_type": "execute_result",
          "data": {
            "text/plain": [
              "False"
            ]
          },
          "metadata": {
            "tags": []
          },
          "execution_count": 4
        }
      ]
    },
    {
      "cell_type": "code",
      "metadata": {
        "id": "gDUG_zzT93aV",
        "colab_type": "code",
        "colab": {}
      },
      "source": [
        "e.Send()"
      ],
      "execution_count": 0,
      "outputs": []
    },
    {
      "cell_type": "code",
      "metadata": {
        "id": "WG5If4tl_CkP",
        "colab_type": "code",
        "outputId": "d0f7a12d-0546-4081-9477-5fbcff17f328",
        "colab": {
          "base_uri": "https://localhost:8080/",
          "height": 34
        }
      },
      "source": [
        "e.is_send"
      ],
      "execution_count": 0,
      "outputs": [
        {
          "output_type": "execute_result",
          "data": {
            "text/plain": [
              "True"
            ]
          },
          "metadata": {
            "tags": []
          },
          "execution_count": 6
        }
      ]
    },
    {
      "cell_type": "code",
      "metadata": {
        "id": "dwzk3JkV_t1H",
        "colab_type": "code",
        "colab": {}
      },
      "source": [
        ""
      ],
      "execution_count": 0,
      "outputs": []
    }
  ]
}