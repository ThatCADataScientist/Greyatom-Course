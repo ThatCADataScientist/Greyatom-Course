{
  "nbformat": 4,
  "nbformat_minor": 0,
  "metadata": {
    "colab": {
      "name": "Ztest.ipynb",
      "provenance": [],
      "collapsed_sections": [],
      "authorship_tag": "ABX9TyP8eYptpk6EcdigeuSKg4ln",
      "include_colab_link": true
    },
    "kernelspec": {
      "name": "python3",
      "display_name": "Python 3"
    }
  },
  "cells": [
    {
      "cell_type": "markdown",
      "metadata": {
        "id": "view-in-github",
        "colab_type": "text"
      },
      "source": [
        "<a href=\"https://colab.research.google.com/github/VarunNangalia/Greyatom-Course/blob/master/Ztest.ipynb\" target=\"_parent\"><img src=\"https://colab.research.google.com/assets/colab-badge.svg\" alt=\"Open In Colab\"/></a>"
      ]
    },
    {
      "cell_type": "code",
      "metadata": {
        "id": "pGbq0_Bpb0EY",
        "colab_type": "code",
        "colab": {}
      },
      "source": [
        "from statsmodels.stats.weightstats import ztest\n",
        "import pandas as pd\n",
        " \n",
        "data = pd.read_csv(path)\n",
        "# apply ztest\n",
        "z_statistic , p_value = ztest(data['Lot.Area'],value=1200,alternative = 'smaller')\n",
        "# print z statistic and p value\n",
        "print(z_statistic)\n",
        "print(p_value)\n",
        "if z_statistic == p_value:\n",
        "    inference = 'Accept'\n",
        "    print(inference)\n",
        "else:\n",
        "    inference = 'Reject'\n",
        "    print(inference)\n",
        "# check the p-value"
      ],
      "execution_count": 0,
      "outputs": []
    }
  ]
}