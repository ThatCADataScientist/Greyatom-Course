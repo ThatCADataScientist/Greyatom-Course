{
  "nbformat": 4,
  "nbformat_minor": 0,
  "metadata": {
    "colab": {
      "name": "Ztest.ipynb",
      "provenance": [],
      "collapsed_sections": [],
      "authorship_tag": "ABX9TyOis/L7rR1dDyf8jIzsNuXw",
      "include_colab_link": true
    },
    "kernelspec": {
      "name": "python3",
      "display_name": "Python 3"
    }
  },
  "cells": [
    {
      "cell_type": "markdown",
      "metadata": {
        "id": "view-in-github",
        "colab_type": "text"
      },
      "source": [
        "<a href=\"https://colab.research.google.com/github/VarunNangalia/Greyatom-Course/blob/master/Ztest.ipynb\" target=\"_parent\"><img src=\"https://colab.research.google.com/assets/colab-badge.svg\" alt=\"Open In Colab\"/></a>"
      ]
    },
    {
      "cell_type": "code",
      "metadata": {
        "id": "pGbq0_Bpb0EY",
        "colab_type": "code",
        "colab": {}
      },
      "source": [
        "#the hypothesis that the Lot.Area is less than 1200. Assume the level of significance to be 5%\n",
        "from statsmodels.stats.weightstats import ztest\n",
        "import pandas as pd\n",
        " \n",
        "data = pd.read_csv(path)\n",
        "# apply ztest\n",
        "z_statistic , p_value = ztest(data['Lot.Area'],value=1200,alternative = 'smaller')\n",
        "# print z statistic and p value\n",
        "print('z_statistic is ',z_statistic)\n",
        "print('p_value is ',p_value)\n",
        "if p_value < 0.05:\n",
        "    inference = 'Reject'\n",
        "    print(inference)\n",
        "else:\n",
        "    inference = 'Accept'\n",
        "    print(inference)\n",
        "# check the p-value"
      ],
      "execution_count": 0,
      "outputs": []
    }
  ]
}