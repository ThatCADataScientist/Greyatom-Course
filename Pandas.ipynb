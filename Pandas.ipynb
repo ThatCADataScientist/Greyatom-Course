{
  "nbformat": 4,
  "nbformat_minor": 0,
  "metadata": {
    "colab": {
      "name": "Pandas",
      "provenance": [],
      "collapsed_sections": [],
      "include_colab_link": true
    },
    "kernelspec": {
      "name": "python3",
      "display_name": "Python 3"
    }
  },
  "cells": [
    {
      "cell_type": "markdown",
      "metadata": {
        "id": "view-in-github",
        "colab_type": "text"
      },
      "source": [
        "<a href=\"https://colab.research.google.com/github/VarunNangalia/Greyatom-Course/blob/master/Pandas.ipynb\" target=\"_parent\"><img src=\"https://colab.research.google.com/assets/colab-badge.svg\" alt=\"Open In Colab\"/></a>"
      ]
    },
    {
      "cell_type": "code",
      "metadata": {
        "id": "0pGKyb4LCKjD",
        "colab_type": "code",
        "colab": {}
      },
      "source": [
        "nums = [800678,800456]"
      ],
      "execution_count": 0,
      "outputs": []
    },
    {
      "cell_type": "code",
      "metadata": {
        "id": "SROulvdbCQM0",
        "colab_type": "code",
        "outputId": "53dd30ce-3e6a-486d-d042-1530a2101a9f",
        "colab": {
          "base_uri": "https://localhost:8080/",
          "height": 34
        }
      },
      "source": [
        "nums"
      ],
      "execution_count": 0,
      "outputs": [
        {
          "output_type": "execute_result",
          "data": {
            "text/plain": [
              "[800678, 800456]"
            ]
          },
          "metadata": {
            "tags": []
          },
          "execution_count": 2
        }
      ]
    },
    {
      "cell_type": "code",
      "metadata": {
        "id": "lwwHrW_5DkzV",
        "colab_type": "code",
        "outputId": "81c1beee-5641-449b-fc3f-65664f0b8998",
        "colab": {
          "base_uri": "https://localhost:8080/",
          "height": 68
        }
      },
      "source": [
        "import pandas as pd\n",
        "import numpy as np\n",
        "nums = [800678,800456]\n",
        "names = ['Richie','Mark']\n",
        "\n",
        "series_1 = pd.Series([nums,names]) # creating a basic panda dataframe\n",
        "series_2 = pd.Series(nums,index = names)# creating a panda dataframe with one data series as index\n",
        "print(series_1)\n"
      ],
      "execution_count": 0,
      "outputs": [
        {
          "output_type": "stream",
          "text": [
            "0    [800678, 800456]\n",
            "1      [Richie, Mark]\n",
            "dtype: object\n"
          ],
          "name": "stdout"
        }
      ]
    },
    {
      "cell_type": "code",
      "metadata": {
        "id": "5vSo5fATIQBA",
        "colab_type": "code",
        "outputId": "07845f38-26d7-4ab1-f105-46a1ae460a55",
        "colab": {
          "base_uri": "https://localhost:8080/",
          "height": 119
        }
      },
      "source": [
        "import pandas as pd\n",
        "a = pd.Series(data = [1,2,3,4],index = [0,1,2,3])\n",
        "b = pd.Series(data = [1,2,3,4],index = [0,1,3,4])\n",
        "c = pd.Series(data = a+b)\n",
        "print(c)"
      ],
      "execution_count": 0,
      "outputs": [
        {
          "output_type": "stream",
          "text": [
            "0    2.0\n",
            "1    4.0\n",
            "2    NaN\n",
            "3    7.0\n",
            "4    NaN\n",
            "dtype: float64\n"
          ],
          "name": "stdout"
        }
      ]
    },
    {
      "cell_type": "code",
      "metadata": {
        "id": "LEq8U6EeIfFL",
        "colab_type": "code",
        "outputId": "255e2198-90b9-4f1f-be66-3ec6801f9a54",
        "colab": {
          "base_uri": "https://localhost:8080/",
          "height": 221
        }
      },
      "source": [
        "import pandas as pd\n",
        "a = pd.Series(data = [1,2,3,4],index = [0,1,2,3])\n",
        "b = pd.Series(data = [1,2,3,4],index = [0,1,3,4])\n",
        "c = pd.Series(data = a+b)\n",
        "print(c)\n",
        "c.fillna(0,inplace = True)\n",
        "print(c)"
      ],
      "execution_count": 0,
      "outputs": [
        {
          "output_type": "stream",
          "text": [
            "0    2.0\n",
            "1    4.0\n",
            "2    NaN\n",
            "3    7.0\n",
            "4    NaN\n",
            "dtype: float64\n",
            "0    2.0\n",
            "1    4.0\n",
            "2    0.0\n",
            "3    7.0\n",
            "4    0.0\n",
            "dtype: float64\n"
          ],
          "name": "stdout"
        }
      ]
    },
    {
      "cell_type": "code",
      "metadata": {
        "id": "eXs4XUNaI0ie",
        "colab_type": "code",
        "outputId": "a6ae527c-3e27-417b-b85e-61ca856119f1",
        "colab": {
          "base_uri": "https://localhost:8080/",
          "height": 111
        }
      },
      "source": [
        "import pandas as pd\n",
        "pincodes = [800678,800456]\n",
        "numbers = [2567890,2567657]\n",
        "labels =[\"R\",\"M\"]\n",
        "names = [\"Richie\",\"Mark\"]\n",
        "first = pd.DataFrame(data =(numbers,pincodes), index = labels )\n",
        "first"
      ],
      "execution_count": 0,
      "outputs": [
        {
          "output_type": "execute_result",
          "data": {
            "text/html": [
              "<div>\n",
              "<style scoped>\n",
              "    .dataframe tbody tr th:only-of-type {\n",
              "        vertical-align: middle;\n",
              "    }\n",
              "\n",
              "    .dataframe tbody tr th {\n",
              "        vertical-align: top;\n",
              "    }\n",
              "\n",
              "    .dataframe thead th {\n",
              "        text-align: right;\n",
              "    }\n",
              "</style>\n",
              "<table border=\"1\" class=\"dataframe\">\n",
              "  <thead>\n",
              "    <tr style=\"text-align: right;\">\n",
              "      <th></th>\n",
              "      <th>0</th>\n",
              "      <th>1</th>\n",
              "    </tr>\n",
              "  </thead>\n",
              "  <tbody>\n",
              "    <tr>\n",
              "      <th>R</th>\n",
              "      <td>2567890</td>\n",
              "      <td>2567657</td>\n",
              "    </tr>\n",
              "    <tr>\n",
              "      <th>M</th>\n",
              "      <td>800678</td>\n",
              "      <td>800456</td>\n",
              "    </tr>\n",
              "  </tbody>\n",
              "</table>\n",
              "</div>"
            ],
            "text/plain": [
              "         0        1\n",
              "R  2567890  2567657\n",
              "M   800678   800456"
            ]
          },
          "metadata": {
            "tags": []
          },
          "execution_count": 15
        }
      ]
    },
    {
      "cell_type": "code",
      "metadata": {
        "id": "WpUgHFJlRPWI",
        "colab_type": "code",
        "outputId": "cf613663-6989-490b-f902-f890958c5268",
        "colab": {
          "base_uri": "https://localhost:8080/",
          "height": 68
        }
      },
      "source": [
        "import pandas as pd\n",
        "pincodes = [800678,800456]\n",
        "numbers = [2567890,2567657]\n",
        "labels =[\"R\",\"M\"]\n",
        "names = [\"Richie\",\"Mark\"]\n",
        "first = pd.DataFrame(data =[numbers,pincodes], index = labels )\n",
        "print(first)"
      ],
      "execution_count": 0,
      "outputs": [
        {
          "output_type": "stream",
          "text": [
            "         0        1\n",
            "R  2567890  2567657\n",
            "M   800678   800456\n"
          ],
          "name": "stdout"
        }
      ]
    },
    {
      "cell_type": "code",
      "metadata": {
        "id": "XJTBCnaPRmm7",
        "colab_type": "code",
        "colab": {}
      },
      "source": [
        "import pandas as pd\n",
        "import numpy as np\n",
        "import matplotlib.pyplot as plt\n"
      ],
      "execution_count": 0,
      "outputs": []
    },
    {
      "cell_type": "code",
      "metadata": {
        "id": "y8mAnYy82lTH",
        "colab_type": "code",
        "colab": {}
      },
      "source": [
        "df = pd.read_csv(\"WorldHappiness2018_Data.csv\")"
      ],
      "execution_count": 0,
      "outputs": []
    },
    {
      "cell_type": "code",
      "metadata": {
        "id": "NHDHXtHK2yZV",
        "colab_type": "code",
        "outputId": "dff0ca9b-d1f7-4026-e55d-11b8c4cd092f",
        "colab": {
          "base_uri": "https://localhost:8080/",
          "height": 224
        }
      },
      "source": [
        "df.head()"
      ],
      "execution_count": 0,
      "outputs": [
        {
          "output_type": "execute_result",
          "data": {
            "text/html": [
              "<div>\n",
              "<style scoped>\n",
              "    .dataframe tbody tr th:only-of-type {\n",
              "        vertical-align: middle;\n",
              "    }\n",
              "\n",
              "    .dataframe tbody tr th {\n",
              "        vertical-align: top;\n",
              "    }\n",
              "\n",
              "    .dataframe thead th {\n",
              "        text-align: right;\n",
              "    }\n",
              "</style>\n",
              "<table border=\"1\" class=\"dataframe\">\n",
              "  <thead>\n",
              "    <tr style=\"text-align: right;\">\n",
              "      <th></th>\n",
              "      <th>Rank</th>\n",
              "      <th>Country</th>\n",
              "      <th>Score</th>\n",
              "      <th>GDP_Per_Capita</th>\n",
              "      <th>Social_Support</th>\n",
              "      <th>Healthy_Life_Expectancy</th>\n",
              "      <th>Freedom_To_Make_Life_Choices</th>\n",
              "      <th>Generosity</th>\n",
              "      <th>Perceptions_Of_Corruption</th>\n",
              "      <th>Residual</th>\n",
              "    </tr>\n",
              "  </thead>\n",
              "  <tbody>\n",
              "    <tr>\n",
              "      <th>0</th>\n",
              "      <td>1</td>\n",
              "      <td>Finland</td>\n",
              "      <td>7.632</td>\n",
              "      <td>1.305</td>\n",
              "      <td>1.592</td>\n",
              "      <td>0.874</td>\n",
              "      <td>0.681</td>\n",
              "      <td>0.192</td>\n",
              "      <td>0.393</td>\n",
              "      <td>2.988</td>\n",
              "    </tr>\n",
              "    <tr>\n",
              "      <th>1</th>\n",
              "      <td>2</td>\n",
              "      <td>Norway</td>\n",
              "      <td>7.594</td>\n",
              "      <td>1.456</td>\n",
              "      <td>1.582</td>\n",
              "      <td>0.861</td>\n",
              "      <td>0.686</td>\n",
              "      <td>0.286</td>\n",
              "      <td>0.340</td>\n",
              "      <td>2.723</td>\n",
              "    </tr>\n",
              "    <tr>\n",
              "      <th>2</th>\n",
              "      <td>3</td>\n",
              "      <td>Denmark</td>\n",
              "      <td>7.555</td>\n",
              "      <td>1.351</td>\n",
              "      <td>1.590</td>\n",
              "      <td>0.868</td>\n",
              "      <td>0.683</td>\n",
              "      <td>0.284</td>\n",
              "      <td>0.408</td>\n",
              "      <td>2.779</td>\n",
              "    </tr>\n",
              "    <tr>\n",
              "      <th>3</th>\n",
              "      <td>4</td>\n",
              "      <td>Iceland</td>\n",
              "      <td>7.495</td>\n",
              "      <td>1.343</td>\n",
              "      <td>1.644</td>\n",
              "      <td>0.914</td>\n",
              "      <td>0.677</td>\n",
              "      <td>0.353</td>\n",
              "      <td>0.138</td>\n",
              "      <td>2.564</td>\n",
              "    </tr>\n",
              "    <tr>\n",
              "      <th>4</th>\n",
              "      <td>5</td>\n",
              "      <td>Switzerland</td>\n",
              "      <td>7.487</td>\n",
              "      <td>1.420</td>\n",
              "      <td>1.549</td>\n",
              "      <td>0.927</td>\n",
              "      <td>0.660</td>\n",
              "      <td>0.256</td>\n",
              "      <td>0.357</td>\n",
              "      <td>2.675</td>\n",
              "    </tr>\n",
              "  </tbody>\n",
              "</table>\n",
              "</div>"
            ],
            "text/plain": [
              "   Rank      Country  Score  ...  Generosity  Perceptions_Of_Corruption  Residual\n",
              "0     1      Finland  7.632  ...       0.192                      0.393     2.988\n",
              "1     2       Norway  7.594  ...       0.286                      0.340     2.723\n",
              "2     3      Denmark  7.555  ...       0.284                      0.408     2.779\n",
              "3     4      Iceland  7.495  ...       0.353                      0.138     2.564\n",
              "4     5  Switzerland  7.487  ...       0.256                      0.357     2.675\n",
              "\n",
              "[5 rows x 10 columns]"
            ]
          },
          "metadata": {
            "tags": []
          },
          "execution_count": 4
        }
      ]
    },
    {
      "cell_type": "code",
      "metadata": {
        "id": "tGDPqizP20Zj",
        "colab_type": "code",
        "colab": {}
      },
      "source": [
        "data_1 = df['Rank'].isnull().sum()"
      ],
      "execution_count": 0,
      "outputs": []
    },
    {
      "cell_type": "code",
      "metadata": {
        "id": "EMbhOWcE3O9f",
        "colab_type": "code",
        "outputId": "6ab2991c-1664-43b1-8e65-12bb6001ecbc",
        "colab": {
          "base_uri": "https://localhost:8080/",
          "height": 34
        }
      },
      "source": [
        "data_1"
      ],
      "execution_count": 0,
      "outputs": [
        {
          "output_type": "execute_result",
          "data": {
            "text/plain": [
              "0"
            ]
          },
          "metadata": {
            "tags": []
          },
          "execution_count": 8
        }
      ]
    },
    {
      "cell_type": "code",
      "metadata": {
        "id": "o0G7di8d3QVL",
        "colab_type": "code",
        "colab": {}
      },
      "source": [
        "df.groupby"
      ],
      "execution_count": 0,
      "outputs": []
    }
  ]
}